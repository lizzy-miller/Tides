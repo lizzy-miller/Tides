{
 "cells": [
  {
   "cell_type": "code",
   "execution_count": 8,
   "id": "061dd2fe-9971-4ab5-a2cc-58d90b31447f",
   "metadata": {},
   "outputs": [],
   "source": [
    "import pandas as pd\n",
    "import numpy as nmp\n",
    "import requests\n",
    "import os\n",
    "import json"
   ]
  },
  {
   "cell_type": "code",
   "execution_count": 5,
   "id": "d606923e-30bd-457c-90db-42fd63ab2821",
   "metadata": {},
   "outputs": [],
   "source": [
    "noaa_api = os.getenv('noaa_api')"
   ]
  },
  {
   "cell_type": "markdown",
   "id": "6b3922bc-9c95-42fb-8e08-7a1cd7721dd3",
   "metadata": {},
   "source": [
    "## NOAA API "
   ]
  },
  {
   "cell_type": "code",
   "execution_count": 11,
   "id": "4bfd291a-3181-4b19-a95d-3e5d6972af08",
   "metadata": {},
   "outputs": [],
   "source": [
    "root = 'https://www.ncei.noaa.gov/cdo-web/api/v2'\n",
    "endpoint = f'/locations'"
   ]
  },
  {
   "cell_type": "code",
   "execution_count": 17,
   "id": "b8bd4c19-086a-47d4-9931-58564b651cf2",
   "metadata": {},
   "outputs": [],
   "source": [
    "parameters = {'format': 'json',\n",
    "            'offset': 85,\n",
    "            'limit': 50}"
   ]
  },
  {
   "cell_type": "code",
   "execution_count": 20,
   "id": "c55aef9b-ef49-478d-a001-3d8118ff1558",
   "metadata": {},
   "outputs": [],
   "source": [
    "headers = {'token': noaa_api}"
   ]
  },
  {
   "cell_type": "code",
   "execution_count": 21,
   "id": "846aa77f-2b4f-47ca-ab66-53c6aa0761bd",
   "metadata": {},
   "outputs": [],
   "source": [
    "r = requests.get(root + endpoint,\n",
    "                params = parameters,\n",
    "                headers = headers)"
   ]
  },
  {
   "cell_type": "code",
   "execution_count": 22,
   "id": "e4420896-fecf-4e28-83ec-7ef459187969",
   "metadata": {},
   "outputs": [
    {
     "data": {
      "text/plain": [
       "<Response [200]>"
      ]
     },
     "execution_count": 22,
     "metadata": {},
     "output_type": "execute_result"
    }
   ],
   "source": [
    "r"
   ]
  }
 ],
 "metadata": {
  "kernelspec": {
   "display_name": "Python 3 (ipykernel)",
   "language": "python",
   "name": "python3"
  },
  "language_info": {
   "codemirror_mode": {
    "name": "ipython",
    "version": 3
   },
   "file_extension": ".py",
   "mimetype": "text/x-python",
   "name": "python",
   "nbconvert_exporter": "python",
   "pygments_lexer": "ipython3",
   "version": "3.11.4"
  }
 },
 "nbformat": 4,
 "nbformat_minor": 5
}
