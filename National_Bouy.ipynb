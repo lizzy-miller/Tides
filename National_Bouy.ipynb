{
 "cells": [
  {
   "cell_type": "code",
   "execution_count": 1,
   "id": "83c77bf8-785a-43ef-a0c6-4336000e20a9",
   "metadata": {},
   "outputs": [],
   "source": [
    "import pandas as pd\n",
    "import numpy as nmp\n",
    "import requests\n",
    "import os\n",
    "import json"
   ]
  },
  {
   "cell_type": "code",
   "execution_count": 2,
   "id": "3dcf084a-6c5b-4021-8990-6026739845e7",
   "metadata": {},
   "outputs": [],
   "source": [
    "coastal_api = os.getenv('coastal_api')\n",
    "r = requests.get('http://httpbin.org/user-agent')\n",
    "useragent = json.loads(r.text)['user-agent']"
   ]
  },
  {
   "cell_type": "code",
   "execution_count": null,
   "id": "38968a1b-bec8-420f-b49f-aa9a3afdd7f5",
   "metadata": {},
   "outputs": [],
   "source": [
    "https://coastal.er.usgs.gov/hurricanes/research/twlviewer/api/regions/381624075071901/forecasts"
   ]
  },
  {
   "cell_type": "code",
   "execution_count": 16,
   "id": "2dd86633-24de-4489-b783-ac3d5d3e8fe5",
   "metadata": {},
   "outputs": [],
   "source": [
    "root = 'https://coastal.er.usgs.gov/hurricanes/research/twlviewer/api'\n",
    "regionId = '381624075071901'\n",
    "endpoint = f'/regions'\n"
   ]
  },
  {
   "cell_type": "code",
   "execution_count": 19,
   "id": "2a747172-4227-4503-a6be-9684b8e51b18",
   "metadata": {},
   "outputs": [],
   "source": [
    "parameters = {'format': 'json'}"
   ]
  },
  {
   "cell_type": "code",
   "execution_count": 13,
   "id": "6e94dc3b-6a59-4707-ba88-918c254b84bd",
   "metadata": {},
   "outputs": [],
   "source": [
    "headers = {'User-Agent': useragent,\n",
    "           'From': 'zrc3hc@virginia.edu',\n",
    "          'token': coastal_api}"
   ]
  },
  {
   "cell_type": "code",
   "execution_count": 23,
   "id": "143b208a-748a-4271-bf78-e0c8ed6aed66",
   "metadata": {},
   "outputs": [],
   "source": [
    "r = requests.get(root + endpoint,\n",
    "                headers = headers)"
   ]
  },
  {
   "cell_type": "code",
   "execution_count": 26,
   "id": "9164e445-a89c-4ed1-865b-d2216d5aad05",
   "metadata": {},
   "outputs": [],
   "source": [
    "ids = json.loads(r.text)"
   ]
  },
  {
   "cell_type": "code",
   "execution_count": 27,
   "id": "d1c10a94-a08c-4348-a5de-0df1a70e9188",
   "metadata": {},
   "outputs": [
    {
     "data": {
      "text/plain": [
       "[{'id': '1', 'abbreviation': 'BOX', 'fullName': 'Boston, MA'},\n",
       " {'id': '2', 'abbreviation': 'MFL', 'fullName': 'Miami, FL'},\n",
       " {'id': '3', 'abbreviation': 'MHX', 'fullName': 'Morehead, NC'},\n",
       " {'id': '4', 'abbreviation': 'TBW', 'fullName': 'Tampa Bay, FL'},\n",
       " {'id': '5', 'abbreviation': 'PHI', 'fullName': 'Mount Holly, NJ'},\n",
       " {'id': '6', 'abbreviation': 'AKQ', 'fullName': 'Wakefield, VA'},\n",
       " {'id': '7', 'abbreviation': 'CAR', 'fullName': 'Caribou, ME'},\n",
       " {'id': '8', 'abbreviation': 'OKX', 'fullName': 'Upton, NY'},\n",
       " {'id': '9', 'abbreviation': 'CHS', 'fullName': 'Charleston, SC'},\n",
       " {'id': '10', 'abbreviation': 'HGX', 'fullName': 'Houston, TX'},\n",
       " {'id': '11', 'abbreviation': 'ILM', 'fullName': 'Wilmington, NC'},\n",
       " {'id': '14', 'abbreviation': 'MLB', 'fullName': 'Melbourne, FL'},\n",
       " {'id': '15', 'abbreviation': 'MOB', 'fullName': 'Mobile, AL'},\n",
       " {'id': '20', 'abbreviation': 'JAX', 'fullName': 'Jacksonville, FL'},\n",
       " {'id': '21', 'abbreviation': 'TAE', 'fullName': 'Tallahassee, FL'},\n",
       " {'id': '22', 'abbreviation': 'GYX', 'fullName': 'Gray, ME'}]"
      ]
     },
     "execution_count": 27,
     "metadata": {},
     "output_type": "execute_result"
    }
   ],
   "source": [
    "ids]"
   ]
  }
 ],
 "metadata": {
  "kernelspec": {
   "display_name": "Python 3 (ipykernel)",
   "language": "python",
   "name": "python3"
  },
  "language_info": {
   "codemirror_mode": {
    "name": "ipython",
    "version": 3
   },
   "file_extension": ".py",
   "mimetype": "text/x-python",
   "name": "python",
   "nbconvert_exporter": "python",
   "pygments_lexer": "ipython3",
   "version": "3.11.4"
  }
 },
 "nbformat": 4,
 "nbformat_minor": 5
}
